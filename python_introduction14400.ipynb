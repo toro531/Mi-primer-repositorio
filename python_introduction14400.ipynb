{
  "nbformat": 4,
  "nbformat_minor": 0,
  "metadata": {
    "colab": {
      "provenance": [],
      "authorship_tag": "ABX9TyNH+Pugsg9p9ZC4LLu6iVVN",
      "include_colab_link": true
    },
    "kernelspec": {
      "name": "python3",
      "display_name": "Python 3"
    },
    "language_info": {
      "name": "python"
    }
  },
  "cells": [
    {
      "cell_type": "markdown",
      "metadata": {
        "id": "view-in-github",
        "colab_type": "text"
      },
      "source": [
        "<a href=\"https://colab.research.google.com/github/toro531/Mi-primer-repositorio/blob/main/python_introduction14400.ipynb\" target=\"_parent\"><img src=\"https://colab.research.google.com/assets/colab-badge.svg\" alt=\"Open In Colab\"/></a>"
      ]
    },
    {
      "cell_type": "code",
      "execution_count": null,
      "metadata": {
        "id": "RcPq6P-j7UXF"
      },
      "outputs": [],
      "source": []
    },
    {
      "cell_type": "markdown",
      "source": [
        "# Mis primeros pasos con python\n",
        "### Fundamentos de programacion\n",
        "**Nombre:** Edwrad Sanchez\n",
        "\n",
        "*Fecha de creacion:*  21 agosto 2024\n",
        "\n",
        "**Email:**  eduar23sr@gmail.com\n",
        "\n",
        "\n"
      ],
      "metadata": {
        "id": "GNprC4d97ftv"
      }
    },
    {
      "cell_type": "code",
      "source": [
        "# Mis primeros pasos en python"
      ],
      "metadata": {
        "id": "NHXWDt_D9WK_"
      },
      "execution_count": null,
      "outputs": []
    },
    {
      "cell_type": "code",
      "source": [
        "print(\"Me llamo Edward\")"
      ],
      "metadata": {
        "colab": {
          "base_uri": "https://localhost:8080/"
        },
        "id": "uGI-HSn8Ag4j",
        "outputId": "bc49376b-64c0-4882-ee86-d0221df87d21"
      },
      "execution_count": null,
      "outputs": [
        {
          "output_type": "stream",
          "name": "stdout",
          "text": [
            "Me llamo Edward\n"
          ]
        }
      ]
    },
    {
      "cell_type": "code",
      "source": [
        "name=\"Edward\"\n",
        "Age=21\n",
        "print(\"mi nombre es\" , name , \"y mi edad es\", Age)"
      ],
      "metadata": {
        "colab": {
          "base_uri": "https://localhost:8080/"
        },
        "id": "lcFiI9ErBWR_",
        "outputId": "07c13df8-f5d6-4ea5-b138-10ca1e5d6cea"
      },
      "execution_count": 8,
      "outputs": [
        {
          "output_type": "stream",
          "name": "stdout",
          "text": [
            "mi nombre es Edward y mi edad es 21\n"
          ]
        }
      ]
    },
    {
      "cell_type": "code",
      "source": [
        "a=10\n",
        "b=5\n",
        "print(a+b) # Suma\n",
        "print(a-b) # resta\n",
        "print(a*b) # multiplicacion\n",
        "print(a/b) # division\n",
        "print(a%b) # modulo\n",
        "print(a**b)# exponente\n",
        "print(a//b)# division entera\n",
        "\n",
        "\n"
      ],
      "metadata": {
        "id": "I0N400z2CNum",
        "colab": {
          "base_uri": "https://localhost:8080/"
        },
        "outputId": "489f0c24-a8fe-4cee-d3a6-33cb7fedd042"
      },
      "execution_count": 9,
      "outputs": [
        {
          "output_type": "stream",
          "name": "stdout",
          "text": [
            "15\n",
            "5\n",
            "50\n",
            "2.0\n",
            "0\n",
            "100000\n",
            "2\n"
          ]
        }
      ]
    },
    {
      "cell_type": "code",
      "source": [
        "# Cambio de numeros\n",
        "\n",
        "salchipapa = 20000\n",
        "Bebida = 2000\n",
        "Total = salchipapa + Bebida\n",
        "print(Total)"
      ],
      "metadata": {
        "colab": {
          "base_uri": "https://localhost:8080/"
        },
        "id": "eVMpau4OEk1x",
        "outputId": "dd1abc36-df41-4d24-c0ec-e7d31b2144c9"
      },
      "execution_count": 10,
      "outputs": [
        {
          "output_type": "stream",
          "name": "stdout",
          "text": [
            "22000\n"
          ]
        }
      ]
    },
    {
      "cell_type": "code",
      "source": [
        "# Concatenacion\n",
        "name = \"Edward\"\n",
        "lastname = \"Sanchez\"\n",
        "Fullname = name + \" \" + lastname\n",
        "print(\"_\" * 20)\n",
        "\n",
        "print(Fullname * 5)\n",
        "\n",
        "print(\"_\" * 20)"
      ],
      "metadata": {
        "colab": {
          "base_uri": "https://localhost:8080/"
        },
        "id": "z22WNZrIE-zt",
        "outputId": "fcd6d070-94a6-4ab0-80c6-ae2a1e2d099d"
      },
      "execution_count": 25,
      "outputs": [
        {
          "output_type": "stream",
          "name": "stdout",
          "text": [
            "____________________\n",
            "Edward SanchezEdward SanchezEdward SanchezEdward SanchezEdward Sanchez\n",
            "____________________\n"
          ]
        }
      ]
    },
    {
      "cell_type": "code",
      "source": [
        "# Incrementos\n",
        "a = 10\n",
        "b = 5\n",
        "a += b\n",
        "print(a)\n",
        "a -= b\n",
        "print(a)\n",
        "a *= b\n",
        "print(a)\n",
        "a /= b\n",
        "print(a)\n",
        "a %= b\n",
        "print(a)\n",
        "a **= b\n",
        "print(a)\n"
      ],
      "metadata": {
        "colab": {
          "base_uri": "https://localhost:8080/"
        },
        "id": "7UtYt2HWF5OO",
        "outputId": "ff07ab03-a8bc-4304-d629-dad4b983c7fa"
      },
      "execution_count": 27,
      "outputs": [
        {
          "output_type": "stream",
          "name": "stdout",
          "text": [
            "15\n",
            "10\n",
            "50\n",
            "10.0\n",
            "0.0\n",
            "0.0\n"
          ]
        }
      ]
    },
    {
      "cell_type": "code",
      "source": [
        "# Multi line string\n",
        "song = \"\"\"un elefante se balanceaba\n",
        "sobre la tela de una araña\n",
        "como veia que resistia\n",
        "fue a buscar otro elefante\"\"\"\n",
        "print(song)"
      ],
      "metadata": {
        "colab": {
          "base_uri": "https://localhost:8080/"
        },
        "id": "Vzo8Jz3fHPpk",
        "outputId": "a9017d9c-cd03-435e-89a8-93b814e14c66"
      },
      "execution_count": 28,
      "outputs": [
        {
          "output_type": "stream",
          "name": "stdout",
          "text": [
            "un elefante se balanceaba\n",
            "sobre la tela de una araña\n",
            "como veia que resistia\n",
            "fue a buscar otro elefante\n"
          ]
        }
      ]
    },
    {
      "cell_type": "code",
      "source": [
        "# Entrada de usuario\n",
        "name = input(\"Cual es tu nombre: \")\n",
        "print(\"Hola mi Estimado\", name)"
      ],
      "metadata": {
        "colab": {
          "base_uri": "https://localhost:8080/"
        },
        "id": "dFlqxDyWH191",
        "outputId": "70991d6f-0c78-4b97-c9de-3324f71548ed"
      },
      "execution_count": 33,
      "outputs": [
        {
          "output_type": "stream",
          "name": "stdout",
          "text": [
            "Cual es tu nombre: Edward\n",
            "Hola mi Estimado Edward\n"
          ]
        }
      ]
    },
    {
      "cell_type": "code",
      "source": [],
      "metadata": {
        "id": "TFt2T_OoIYzD"
      },
      "execution_count": null,
      "outputs": []
    }
  ]
}